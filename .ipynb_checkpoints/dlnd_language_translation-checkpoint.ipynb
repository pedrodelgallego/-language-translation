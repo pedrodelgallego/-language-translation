{
 "cells": [
  {
   "cell_type": "markdown",
   "metadata": {
    "collapsed": true
   },
   "source": [
    "# Language Translation\n",
    "In this project, you’re going to take a peek into the realm of neural network machine translation.  You’ll be training a sequence to sequence model on a dataset of English and French sentences that can translate new sentences from English to French.\n",
    "## Get the Data\n",
    "Since translating the whole language of English to French will take lots of time to train, we have provided you with a small portion of the English corpus."
   ]
  },
  {
   "cell_type": "code",
   "execution_count": 1,
   "metadata": {
    "collapsed": true
   },
   "outputs": [],
   "source": [
    "\"\"\"\n",
    "DON'T MODIFY ANYTHING IN THIS CELL\n",
    "\"\"\"\n",
    "import helper\n",
    "import problem_unittests as tests\n",
    "\n",
    "source_path = 'data/small_vocab_en'\n",
    "target_path = 'data/small_vocab_fr'\n",
    "source_text = helper.load_data(source_path)\n",
    "target_text = helper.load_data(target_path)"
   ]
  },
  {
   "cell_type": "markdown",
   "metadata": {},
   "source": [
    "## Explore the Data\n",
    "Play around with view_sentence_range to view different parts of the data."
   ]
  },
  {
   "cell_type": "code",
   "execution_count": 2,
   "metadata": {},
   "outputs": [
    {
     "name": "stdout",
     "output_type": "stream",
     "text": [
      "Dataset Stats\n",
      "Roughly the number of unique words: 227\n",
      "Number of sentences: 137861\n",
      "Average number of words in a sentence: 13.225277634719028\n",
      "\n",
      "English sentences 0 to 10:\n",
      "new jersey is sometimes quiet during autumn , and it is snowy in april .\n",
      "the united states is usually chilly during july , and it is usually freezing in november .\n",
      "california is usually quiet during march , and it is usually hot in june .\n",
      "the united states is sometimes mild during june , and it is cold in september .\n",
      "your least liked fruit is the grape , but my least liked is the apple .\n",
      "his favorite fruit is the orange , but my favorite is the grape .\n",
      "paris is relaxing during december , but it is usually chilly in july .\n",
      "new jersey is busy during spring , and it is never hot in march .\n",
      "our least liked fruit is the lemon , but my least liked is the grape .\n",
      "the united states is sometimes busy during january , and it is sometimes warm in november .\n",
      "\n",
      "French sentences 0 to 10:\n",
      "new jersey est parfois calme pendant l' automne , et il est neigeux en avril .\n",
      "les états-unis est généralement froid en juillet , et il gèle habituellement en novembre .\n",
      "california est généralement calme en mars , et il est généralement chaud en juin .\n",
      "les états-unis est parfois légère en juin , et il fait froid en septembre .\n",
      "votre moins aimé fruit est le raisin , mais mon moins aimé est la pomme .\n",
      "son fruit préféré est l'orange , mais mon préféré est le raisin .\n",
      "paris est relaxant en décembre , mais il est généralement froid en juillet .\n",
      "new jersey est occupé au printemps , et il est jamais chaude en mars .\n",
      "notre fruit est moins aimé le citron , mais mon moins aimé est le raisin .\n",
      "les états-unis est parfois occupé en janvier , et il est parfois chaud en novembre .\n"
     ]
    }
   ],
   "source": [
    "view_sentence_range = (0, 10)\n",
    "\n",
    "\"\"\"\n",
    "DON'T MODIFY ANYTHING IN THIS CELL\n",
    "\"\"\"\n",
    "import numpy as np\n",
    "\n",
    "print('Dataset Stats')\n",
    "print('Roughly the number of unique words: {}'.format(len({word: None for word in source_text.split()})))\n",
    "\n",
    "sentences = source_text.split('\\n')\n",
    "word_counts = [len(sentence.split()) for sentence in sentences]\n",
    "print('Number of sentences: {}'.format(len(sentences)))\n",
    "print('Average number of words in a sentence: {}'.format(np.average(word_counts)))\n",
    "\n",
    "print()\n",
    "print('English sentences {} to {}:'.format(*view_sentence_range))\n",
    "print('\\n'.join(source_text.split('\\n')[view_sentence_range[0]:view_sentence_range[1]]))\n",
    "print()\n",
    "print('French sentences {} to {}:'.format(*view_sentence_range))\n",
    "print('\\n'.join(target_text.split('\\n')[view_sentence_range[0]:view_sentence_range[1]]))"
   ]
  },
  {
   "cell_type": "markdown",
   "metadata": {},
   "source": [
    "## Implement Preprocessing Function\n",
    "### Text to Word Ids\n",
    "As you did with other RNNs, you must turn the text into a number so the computer can understand it. In the function `text_to_ids()`, you'll turn `source_text` and `target_text` from words to ids.  However, you need to add the `<EOS>` word id at the end of each sentence from `target_text`.  This will help the neural network predict when the sentence should end.\n",
    "\n",
    "You can get the `<EOS>` word id by doing:\n",
    "```python\n",
    "target_vocab_to_int['<EOS>']\n",
    "```\n",
    "defYou can get other word ids using `source_vocab_to_int` and `target_vocab_to_int`."
   ]
  },
  {
   "cell_type": "code",
   "execution_count": 3,
   "metadata": {},
   "outputs": [
    {
     "name": "stdout",
     "output_type": "stream",
     "text": [
      "Tests Passed\n"
     ]
    }
   ],
   "source": [
    "def get_sentences(text):\n",
    "    return text.split(\"\\n\")\n",
    "\n",
    "def add_eos_to_sentence(sentence): \n",
    "    return sentence + ' <EOS>'\n",
    "\n",
    "def sentence_to_ids(sentence, vocab_to_int):\n",
    "    return [vocab_to_int[w] for w in sentence.split()]\n",
    "\n",
    "def text_to_ids(source_text, target_text, source_vocab_to_int, target_vocab_to_int):\n",
    "    \"\"\"\n",
    "    Convert source and target text to proper word ids\n",
    "    :param source_text: String that contains all the source text.\n",
    "    :param target_text: String that contains all the target text.\n",
    "    :param source_vocab_to_int: Dictionary to go from the source words to an id\n",
    "    :param target_vocab_to_int: Dictionary to go from the target words to an id\n",
    "    :return: A tuple of lists (source_id_text, target_id_text)\n",
    "    \"\"\"\n",
    "    source_id_text = []\n",
    "    source_sentences = get_sentences(source_text)\n",
    "    \n",
    "    target_id_text = []\n",
    "    target_sentences = get_sentences(target_text)\n",
    "\n",
    "    for source, target in zip(source_sentences, target_sentences):\n",
    "        source_id_text.append(sentence_to_ids(source, source_vocab_to_int))\n",
    "        target_id_text.append(sentence_to_ids(add_eos_to_sentence(target), target_vocab_to_int))\n",
    "\n",
    "    return source_id_text, target_id_text\n",
    "    \n",
    "\"\"\"\n",
    "DON'T MODIFY ANYTHING IN THIS CELL THAT IS BELOW THIS LINE\n",
    "\"\"\"\n",
    "tests.test_text_to_ids(text_to_ids)"
   ]
  },
  {
   "cell_type": "markdown",
   "metadata": {},
   "source": [
    "### Preprocess all the data and save it\n",
    "Running the code cell below will preprocess all the data and save it to file."
   ]
  },
  {
   "cell_type": "code",
   "execution_count": 4,
   "metadata": {
    "collapsed": true
   },
   "outputs": [],
   "source": [
    "\"\"\"\n",
    "DON'T MODIFY ANYTHING IN THIS CELL\n",
    "\"\"\"\n",
    "helper.preprocess_and_save_data(source_path, target_path, text_to_ids)"
   ]
  },
  {
   "cell_type": "markdown",
   "metadata": {},
   "source": [
    "# Check Point\n",
    "This is your first checkpoint. If you ever decide to come back to this notebook or have to restart the notebook, you can start from here. The preprocessed data has been saved to disk."
   ]
  },
  {
   "cell_type": "code",
   "execution_count": 5,
   "metadata": {
    "collapsed": true
   },
   "outputs": [],
   "source": [
    "\"\"\"\n",
    "DON'T MODIFY ANYTHING IN THIS CELL\n",
    "\"\"\"\n",
    "import numpy as np\n",
    "import helper\n",
    "\n",
    "(source_int_text, target_int_text), (source_vocab_to_int, target_vocab_to_int), _ = helper.load_preprocess()"
   ]
  },
  {
   "cell_type": "markdown",
   "metadata": {},
   "source": [
    "### Check the Version of TensorFlow and Access to GPU\n",
    "This will check to make sure you have the correct version of TensorFlow and access to a GPU"
   ]
  },
  {
   "cell_type": "code",
   "execution_count": 6,
   "metadata": {},
   "outputs": [
    {
     "name": "stdout",
     "output_type": "stream",
     "text": [
      "TensorFlow Version: 1.0.0\n"
     ]
    },
    {
     "name": "stderr",
     "output_type": "stream",
     "text": [
      "/Users/pedro/miniconda3/lib/python3.6/site-packages/ipykernel_launcher.py:14: UserWarning: No GPU found. Please use a GPU to train your neural network.\n",
      "  \n"
     ]
    }
   ],
   "source": [
    "\"\"\"\n",
    "DON'T MODIFY ANYTHING IN THIS CELL\n",
    "\"\"\"\n",
    "from distutils.version import LooseVersion\n",
    "import warnings\n",
    "import tensorflow as tf\n",
    "\n",
    "# Check TensorFlow Version\n",
    "assert LooseVersion(tf.__version__) in [LooseVersion('1.0.0'), LooseVersion('1.0.1')], 'This project requires TensorFlow version 1.0  You are using {}'.format(tf.__version__)\n",
    "print('TensorFlow Version: {}'.format(tf.__version__))\n",
    "\n",
    "# Check for a GPU\n",
    "if not tf.test.gpu_device_name():\n",
    "    warnings.warn('No GPU found. Please use a GPU to train your neural network.')\n",
    "else:\n",
    "    print('Default GPU Device: {}'.format(tf.test.gpu_device_name()))"
   ]
  },
  {
   "cell_type": "markdown",
   "metadata": {},
   "source": [
    "## Build the Neural Network\n",
    "You'll build the components necessary to build a Sequence-to-Sequence model by implementing the following functions below:\n",
    "- `model_inputs`\n",
    "- `process_decoding_input`\n",
    "- `encoding_layer`\n",
    "- `decoding_layer_train`\n",
    "- `decoding_layer_infer`\n",
    "- `decoding_layer`\n",
    "- `seq2seq_model`\n",
    "\n",
    "### Input\n",
    "Implement the `model_inputs()` function to create TF Placeholders for the Neural Network. It should create the following placeholders:\n",
    "\n",
    "- Input text placeholder named \"input\" using the TF Placeholder name parameter with rank 2.\n",
    "- Targets placeholder with rank 2.\n",
    "- Learning rate placeholder with rank 0.\n",
    "- Keep probability placeholder named \"keep_prob\" using the TF Placeholder name parameter with rank 0.\n",
    "\n",
    "Return the placeholders in the following the tuple (Input, Targets, Learing Rate, Keep Probability)"
   ]
  },
  {
   "cell_type": "code",
   "execution_count": 7,
   "metadata": {},
   "outputs": [
    {
     "name": "stdout",
     "output_type": "stream",
     "text": [
      "Tests Passed\n"
     ]
    }
   ],
   "source": [
    "def model_inputs():\n",
    "    \"\"\"\n",
    "    Create TF Placeholders for input, targets, and learning rate.\n",
    "    :return: Tuple (input, targets, learning rate, keep probability)\n",
    "    \"\"\"\n",
    "    # TODO: Implement Function\n",
    "    input = tf.placeholder(tf.int32, [None, None], name='input')\n",
    "    targets = tf.placeholder(tf.int32, [None, None], name='targets')\n",
    "    learning_rate = tf.placeholder(tf.float32, name='learning_rate')\n",
    "    keep_prob = tf.placeholder(tf.float32, name='keep_prob')\n",
    "    \n",
    "    return input, targets, learning_rate, keep_prob\n",
    "\n",
    "\n",
    "\"\"\"\n",
    "DON'T MODIFY ANYTHING IN THIS CELL THAT IS BELOW THIS LINE\n",
    "\"\"\"\n",
    "tests.test_model_inputs(model_inputs)"
   ]
  },
  {
   "cell_type": "markdown",
   "metadata": {},
   "source": [
    "### Process Decoding Input\n",
    "Implement `process_decoding_input` using TensorFlow to remove the last word id from each batch in `target_data` and concat the GO ID to the beginning of each batch."
   ]
  },
  {
   "cell_type": "code",
   "execution_count": 13,
   "metadata": {},
   "outputs": [
    {
     "name": "stdout",
     "output_type": "stream",
     "text": [
      "ending:  Tensor(\"StridedSlice:0\", shape=(2, 2), dtype=int32)\n",
      "processed_target:  Tensor(\"StridedSlice:0\", shape=(2, 2), dtype=int32)\n",
      "Tests Passed\n"
     ]
    }
   ],
   "source": [
    "def process_decoding_input(target_data, target_vocab_to_int, batch_size):\n",
    "    \"\"\"\n",
    "    Preprocess target data for dencoding\n",
    "    :param target_data: Target Placehoder\n",
    "    :param target_vocab_to_int: Dictionary to go from the target words to an id\n",
    "    :param batch_size: Batch Size\n",
    "    :return: Preprocessed target data\n",
    "    \"\"\"\n",
    "    ending = tf.strided_slice(target_data, [0, 0], [batch_size, -1], [1, 1])\n",
    "    processed_target = tf.concat([tf.fill([batch_size, 1], target_vocab_to_int['<GO>']), ending], 1)\n",
    "    \n",
    "    print('ending: ', ending)\n",
    "    print('processed_target: ', ending)\n",
    "    return processed_target\n",
    "    \n",
    "\"\"\"\n",
    "DON'T MODIFY ANYTHING IN THIS CELL THAT IS BELOW THIS LINE\n",
    "\"\"\"\n",
    "tests.test_process_decoding_input(process_decoding_input)"
   ]
  },
  {
   "cell_type": "markdown",
   "metadata": {},
   "source": [
    "### Encoding\n",
    "Implement `encoding_layer()` to create a Encoder RNN layer using [`tf.nn.dynamic_rnn()`](https://www.tensorflow.org/api_docs/python/tf/nn/dynamic_rnn)."
   ]
  },
  {
   "cell_type": "code",
   "execution_count": 14,
   "metadata": {},
   "outputs": [
    {
     "name": "stdout",
     "output_type": "stream",
     "text": [
      "Tests Passed\n"
     ]
    }
   ],
   "source": [
    "def encoding_layer(rnn_inputs, rnn_size, num_layers, keep_prob):\n",
    "    \"\"\"\n",
    "    Create encoding layer\n",
    "    :param rnn_inputs: Inputs for the RNN\n",
    "    :param rnn_size: RNN Size\n",
    "    :param num_layers: Number of layers\n",
    "    :param keep_prob: Dropout keep probability\n",
    "    :return: RNN state\n",
    "    \"\"\"\n",
    "    rnn = tf.contrib.rnn.BasicLSTMCell(rnn_size)\n",
    "    drop = tf.contrib.rnn.DropoutWrapper(rnn, output_keep_prob=keep_prob) \n",
    "    cell = tf.contrib.rnn.MultiRNNCell([drop] * num_layers) \n",
    "    \n",
    "    _, encoder_state = tf.nn.dynamic_rnn(cell, rnn_inputs, dtype=tf.float32)\n",
    "    \n",
    "    return encoder_state\n",
    "\n",
    "\"\"\"\n",
    "DON'T MODIFY ANYTHING IN THIS CELL THAT IS BELOW THIS LINE\n",
    "\"\"\"\n",
    "tests.test_encoding_layer(encoding_layer)"
   ]
  },
  {
   "cell_type": "markdown",
   "metadata": {},
   "source": [
    "### Decoding - Training\n",
    "Create training logits using [`tf.contrib.seq2seq.simple_decoder_fn_train()`](https://www.tensorflow.org/api_docs/python/tf/contrib/seq2seq/simple_decoder_fn_train) and [`tf.contrib.seq2seq.dynamic_rnn_decoder()`](https://www.tensorflow.org/api_docs/python/tf/contrib/seq2seq/dynamic_rnn_decoder).  Apply the `output_fn` to the [`tf.contrib.seq2seq.dynamic_rnn_decoder()`](https://www.tensorflow.org/api_docs/python/tf/contrib/seq2seq/dynamic_rnn_decoder) outputs."
   ]
  },
  {
   "cell_type": "code",
   "execution_count": 16,
   "metadata": {},
   "outputs": [
    {
     "name": "stdout",
     "output_type": "stream",
     "text": [
      "Tests Passed\n"
     ]
    }
   ],
   "source": [
    "def decoding_layer_train(encoder_state, dec_cell, dec_embed_input, sequence_length, decoding_scope,\n",
    "                         output_fn, keep_prob):\n",
    "    \"\"\"\n",
    "    Create a decoding layer for training\n",
    "    :param encoder_state: Encoder State\n",
    "    :param dec_cell: Decoder RNN Cell\n",
    "    :param dec_embed_input: Decoder embedded input\n",
    "    :param sequence_length: Sequence Length\n",
    "    :param decoding_scope: TenorFlow Variable Scope for decoding\n",
    "    :param output_fn: Function to apply the output layer\n",
    "    :param keep_prob: Dropout keep probability\n",
    "    :return: Train Logits\n",
    "    \"\"\"\n",
    "    cell = tf.contrib.rnn.DropoutWrapper(dec_cell, output_keep_prob=keep_prob)\n",
    "    \n",
    "    train_decoder_fn = tf.contrib.seq2seq.simple_decoder_fn_train(encoder_state)\n",
    "    train_pred, _, _ = tf.contrib.seq2seq.dynamic_rnn_decoder(cell, train_decoder_fn,\n",
    "                                                              dec_embed_input, sequence_length, \n",
    "                                                              scope=decoding_scope)\n",
    "    train_logits =  output_fn(train_pred)\n",
    "        \n",
    "    return train_logits\n",
    "\n",
    "\"\"\"\n",
    "DON'T MODIFY ANYTHING IN THIS CELL THAT IS BELOW THIS LINE\n",
    "\"\"\"\n",
    "tests.test_decoding_layer_train(decoding_layer_train)"
   ]
  },
  {
   "cell_type": "markdown",
   "metadata": {},
   "source": [
    "### Decoding - Inference\n",
    "Create inference logits using [`tf.contrib.seq2seq.simple_decoder_fn_inference()`](https://www.tensorflow.org/api_docs/python/tf/contrib/seq2seq/simple_decoder_fn_inference) and [`tf.contrib.seq2seq.dynamic_rnn_decoder()`](https://www.tensorflow.org/api_docs/python/tf/contrib/seq2seq/dynamic_rnn_decoder). "
   ]
  },
  {
   "cell_type": "code",
   "execution_count": 17,
   "metadata": {},
   "outputs": [
    {
     "name": "stdout",
     "output_type": "stream",
     "text": [
      "Tests Passed\n"
     ]
    }
   ],
   "source": [
    "def decoding_layer_infer(encoder_state, dec_cell, dec_embeddings, start_of_sequence_id, end_of_sequence_id,\n",
    "                         maximum_length, vocab_size, decoding_scope, output_fn, keep_prob):\n",
    "    \"\"\"\n",
    "    Create a decoding layer for inference\n",
    "    :param encoder_state: Encoder state\n",
    "    :param dec_cell: Decoder RNN Cell\n",
    "    :param dec_embeddings: Decoder embeddings\n",
    "    :param start_of_sequence_id: GO ID\n",
    "    :param end_of_sequence_id: EOS Id\n",
    "    :param maximum_length: The maximum allowed time steps to decode\n",
    "    :param vocab_size: Size of vocabulary\n",
    "    :param decoding_scope: TensorFlow Variable Scope for decoding\n",
    "    :param output_fn: Function to apply the output layer\n",
    "    :param keep_prob: Dropout keep probability\n",
    "    :return: Inference Logits\n",
    "    \"\"\"    \n",
    "    infer_decoder_fn = tf.contrib.seq2seq.simple_decoder_fn_inference(output_fn, encoder_state, dec_embeddings,\n",
    "                                                                      start_of_sequence_id, end_of_sequence_id,\n",
    "                                                                      maximum_length - 1, vocab_size)\n",
    "    \n",
    "    inference_logits, _, _ = tf.contrib.seq2seq.dynamic_rnn_decoder(dec_cell, infer_decoder_fn, \n",
    "                                                                    scope=decoding_scope)\n",
    "        \n",
    "    return inference_logits\n",
    "\n",
    "\n",
    "\n",
    "\"\"\"\n",
    "DON'T MODIFY ANYTHING IN THIS CELL THAT IS BELOW THIS LINE\n",
    "\"\"\"\n",
    "tests.test_decoding_layer_infer(decoding_layer_infer)"
   ]
  },
  {
   "cell_type": "markdown",
   "metadata": {},
   "source": [
    "### Build the Decoding Layer\n",
    "Implement `decoding_layer()` to create a Decoder RNN layer.\n",
    "\n",
    "- Create RNN cell for decoding using `rnn_size` and `num_layers`.\n",
    "- Create the output fuction using [`lambda`](https://docs.python.org/3/tutorial/controlflow.html#lambda-expressions) to transform it's input, logits, to class logits.\n",
    "- Use the your `decoding_layer_train(encoder_state, dec_cell, dec_embed_input, sequence_length, decoding_scope, output_fn, keep_prob)` function to get the training logits.\n",
    "- Use your `decoding_layer_infer(encoder_state, dec_cell, dec_embeddings, start_of_sequence_id, end_of_sequence_id, maximum_length, vocab_size, decoding_scope, output_fn, keep_prob)` function to get the inference logits.\n",
    "\n",
    "Note: You'll need to use [tf.variable_scope](https://www.tensorflow.org/api_docs/python/tf/variable_scope) to share variables between training and inference."
   ]
  },
  {
   "cell_type": "code",
   "execution_count": 18,
   "metadata": {},
   "outputs": [
    {
     "name": "stdout",
     "output_type": "stream",
     "text": [
      "Tests Passed\n"
     ]
    }
   ],
   "source": [
    "def decoding_layer(dec_embed_input, dec_embeddings, encoder_state, vocab_size, sequence_length, rnn_size,\n",
    "                   num_layers, target_vocab_to_int, keep_prob):\n",
    "    \"\"\"\n",
    "    Create decoding layer\n",
    "    :param dec_embed_input: Decoder embedded input\n",
    "    :param dec_embeddings: Decoder embeddings\n",
    "    :param encoder_state: The encoded state\n",
    "    :param vocab_size: Size of vocabulary\n",
    "    :param sequence_length: Sequence Length\n",
    "    :param rnn_size: RNN Size\n",
    "    :param num_layers: Number of layers\n",
    "    :param target_vocab_to_int: Dictionary to go from the target words to an id\n",
    "    :param keep_prob: Dropout keep probability\n",
    "    :return: Tuple of (Training Logits, Inference Logits)\n",
    "    \"\"\"\n",
    "    dec_cell = tf.contrib.rnn.MultiRNNCell([tf.contrib.rnn.BasicLSTMCell(rnn_size)] * num_layers)\n",
    "\n",
    "    with tf.variable_scope(\"decoding\") as decoding_scope:   \n",
    "        output_fn = lambda x: tf.contrib.layers.fully_connected(x, vocab_size, None, scope=decoding_scope)        \n",
    "        \n",
    "        # Dropout applied to decoding_layer_train function\n",
    "        train_logits = decoding_layer_train(encoder_state, dec_cell, dec_embed_input, sequence_length, \n",
    "                                          decoding_scope, output_fn, keep_prob) \n",
    "    \n",
    "        decoding_scope.reuse_variables()\n",
    "        inference_logits =  decoding_layer_infer(encoder_state, dec_cell, dec_embeddings,\n",
    "                                                 target_vocab_to_int['<GO>'],\n",
    "                                                 target_vocab_to_int['<EOS>'], sequence_length, vocab_size, \n",
    "                                                 decoding_scope, output_fn, keep_prob) \n",
    "        \n",
    "    return train_logits, inference_logits\n",
    "\n",
    "\"\"\"\n",
    "DON'T MODIFY ANYTHING IN THIS CELL THAT IS BELOW THIS LINE\n",
    "\"\"\"\n",
    "tests.test_decoding_layer(decoding_layer)"
   ]
  },
  {
   "cell_type": "markdown",
   "metadata": {},
   "source": [
    "### Build the Neural Network\n",
    "Apply the functions you implemented above to:\n",
    "\n",
    "- Apply embedding to the input data for the encoder.\n",
    "- Encode the input using your `encoding_layer(rnn_inputs, rnn_size, num_layers, keep_prob)`.\n",
    "- Process target data using your `process_decoding_input(target_data, target_vocab_to_int, batch_size)` function.\n",
    "- Apply embedding to the target data for the decoder.\n",
    "- Decode the encoded input using your `decoding_layer(dec_embed_input, dec_embeddings, encoder_state, vocab_size, sequence_length, rnn_size, num_layers, target_vocab_to_int, keep_prob)`."
   ]
  },
  {
   "cell_type": "code",
   "execution_count": 49,
   "metadata": {},
   "outputs": [
    {
     "name": "stdout",
     "output_type": "stream",
     "text": [
      "Tests Passed\n"
     ]
    }
   ],
   "source": [
    "def seq2seq_model(input_data, target_data, keep_prob, batch_size, sequence_length, source_vocab_size, target_vocab_size,\n",
    "                  enc_embedding_size, dec_embedding_size, rnn_size, num_layers, target_vocab_to_int):\n",
    "    \"\"\"\n",
    "    Build the Sequence-to-Sequence part of the neural network\n",
    "    :param input_data: Input placeholder\n",
    "    :param target_data: Target placeholder\n",
    "    :param keep_prob: Dropout keep probability placeholder\n",
    "    :param batch_size: Batch Size\n",
    "    :param sequence_length: Sequence Length\n",
    "    :param source_vocab_size: Source vocabulary size\n",
    "    :param target_vocab_size: Target vocabulary size\n",
    "    :param enc_embedding_size: Decoder embedding size\n",
    "    :param dec_embedding_size: Encoder embedding size\n",
    "    :param rnn_size: RNN Size\n",
    "    :param num_layers: Number of layers\n",
    "    :param target_vocab_to_int: Dictionary to go from the target words to an id\n",
    "    :return: Tuple of (Training Logits, Inference Logits)\n",
    "    \"\"\"    \n",
    "    # Apply embedding to the input\n",
    "    enc_embed_input = tf.contrib.layers.embed_sequence(input_data, source_vocab_size, enc_embedding_size)\n",
    "    # Encode the input - Dropout applied here\n",
    "    encoder_state = encoding_layer(enc_embed_input, rnn_size, num_layers, keep_prob)    \n",
    "    \n",
    "    # Process target data\n",
    "    dec_input = process_decoding_input(target_data, target_vocab_to_int, batch_size) \n",
    "\n",
    "    # Apply embedding to the target data \n",
    "    dec_embeddings = tf.Variable(tf.random_uniform([target_vocab_size, dec_embedding_size])) # tf variable needed\n",
    "    dec_embed_input = tf.nn.embedding_lookup(dec_embeddings, dec_input)\n",
    "    \n",
    "    # Decode the encoded input - Dropout also applied here\n",
    "    return decoding_layer(dec_embed_input, dec_embeddings, encoder_state, target_vocab_size, sequence_length, \n",
    "                          rnn_size, num_layers, target_vocab_to_int, keep_prob) \n",
    "\n",
    "\n",
    "\n",
    "\"\"\"\n",
    "DON'T MODIFY ANYTHING IN THIS CELL THAT IS BELOW THIS LINE\n",
    "\"\"\"\n",
    "tests.test_seq2seq_model(seq2seq_model)"
   ]
  },
  {
   "cell_type": "markdown",
   "metadata": {},
   "source": [
    "## Neural Network Training\n",
    "### Hyperparameters\n",
    "Tune the following parameters:\n",
    "\n",
    "- Set `epochs` to the number of epochs.\n",
    "- Set `batch_size` to the batch size.\n",
    "- Set `rnn_size` to the size of the RNNs.\n",
    "- Set `num_layers` to the number of layers.\n",
    "- Set `encoding_embedding_size` to the size of the embedding for the encoder.\n",
    "- Set `decoding_embedding_size` to the size of the embedding for the decoder.\n",
    "- Set `learning_rate` to the learning rate.\n",
    "- Set `keep_probability` to the Dropout keep probability"
   ]
  },
  {
   "cell_type": "code",
   "execution_count": 53,
   "metadata": {
    "collapsed": true
   },
   "outputs": [],
   "source": [
    "# Number of Epochs\n",
    "epochs = 2         # >90% accuracy can be achieved in 1 epoch easily by removing dropout to some RNN layers\n",
    "# Batch Size\n",
    "batch_size = 128   # tested from 64 to 1024\n",
    "# RNN Size\n",
    "rnn_size = 256     # tested from 128 to 1024 \n",
    "# Number of Layers\n",
    "num_layers = 1     # tested from 1 to 3\n",
    "# Embedding Size\n",
    "encoding_embedding_size = 1024  #  tested from 12 to 4096\n",
    "decoding_embedding_size = 1024  #  tested from 12 to 4096\n",
    "# Learning Rate\n",
    "learning_rate = 0.001           # tested from 0.01 to 0.0001 \n",
    "# Dropout Keep Probability\n",
    "keep_probability = 0.85         # tested from 0.5 to 0.9"
   ]
  },
  {
   "cell_type": "markdown",
   "metadata": {},
   "source": [
    "### Build the Graph\n",
    "Build the graph using the neural network you implemented."
   ]
  },
  {
   "cell_type": "code",
   "execution_count": 54,
   "metadata": {
    "collapsed": true
   },
   "outputs": [],
   "source": [
    "\"\"\"\n",
    "DON'T MODIFY ANYTHING IN THIS CELL\n",
    "\"\"\"\n",
    "save_path = 'checkpoints/dev'\n",
    "(source_int_text, target_int_text), (source_vocab_to_int, target_vocab_to_int), _ = helper.load_preprocess()\n",
    "max_source_sentence_length = max([len(sentence) for sentence in source_int_text])\n",
    "\n",
    "train_graph = tf.Graph()\n",
    "with train_graph.as_default():\n",
    "    input_data, targets, lr, keep_prob = model_inputs()\n",
    "    sequence_length = tf.placeholder_with_default(max_source_sentence_length, None, name='sequence_length')\n",
    "    input_shape = tf.shape(input_data)\n",
    "    \n",
    "    train_logits, inference_logits = seq2seq_model(\n",
    "        tf.reverse(input_data, [-1]), targets, keep_prob, batch_size, sequence_length, len(source_vocab_to_int), len(target_vocab_to_int),\n",
    "        encoding_embedding_size, decoding_embedding_size, rnn_size, num_layers, target_vocab_to_int)\n",
    "\n",
    "    tf.identity(inference_logits, 'logits')\n",
    "    with tf.name_scope(\"optimization\"):\n",
    "        # Loss function\n",
    "        cost = tf.contrib.seq2seq.sequence_loss(\n",
    "            train_logits,\n",
    "            targets,\n",
    "            tf.ones([input_shape[0], sequence_length]))\n",
    "\n",
    "        # Optimizer\n",
    "        optimizer = tf.train.AdamOptimizer(lr)\n",
    "\n",
    "        # Gradient Clipping\n",
    "        gradients = optimizer.compute_gradients(cost)\n",
    "        capped_gradients = [(tf.clip_by_value(grad, -1., 1.), var) for grad, var in gradients if grad is not None]\n",
    "        train_op = optimizer.apply_gradients(capped_gradients)"
   ]
  },
  {
   "cell_type": "markdown",
   "metadata": {},
   "source": [
    "### Train\n",
    "Train the neural network on the preprocessed data. If you have a hard time getting a good loss, check the forms to see if anyone is having the same problem."
   ]
  },
  {
   "cell_type": "code",
   "execution_count": 55,
   "metadata": {
    "scrolled": true
   },
   "outputs": [
    {
     "name": "stdout",
     "output_type": "stream",
     "text": [
      "Epoch   0 Batch    0/1077 - Train Accuracy:  0.294, Validation Accuracy:  0.305, Loss:  5.733\n",
      "Epoch   0 Batch    1/1077 - Train Accuracy:  0.221, Validation Accuracy:  0.305, Loss:  4.944\n",
      "Epoch   0 Batch    2/1077 - Train Accuracy:  0.206, Validation Accuracy:  0.305, Loss:  4.773\n",
      "Epoch   0 Batch    3/1077 - Train Accuracy:  0.239, Validation Accuracy:  0.305, Loss:  4.398\n",
      "Epoch   0 Batch    4/1077 - Train Accuracy:  0.224, Validation Accuracy:  0.305, Loss:  4.253\n",
      "Epoch   0 Batch    5/1077 - Train Accuracy:  0.261, Validation Accuracy:  0.305, Loss:  3.965\n",
      "Epoch   0 Batch    6/1077 - Train Accuracy:  0.254, Validation Accuracy:  0.318, Loss:  3.855\n",
      "Epoch   0 Batch    7/1077 - Train Accuracy:  0.258, Validation Accuracy:  0.335, Loss:  3.779\n",
      "Epoch   0 Batch    8/1077 - Train Accuracy:  0.269, Validation Accuracy:  0.337, Loss:  3.621\n",
      "Epoch   0 Batch    9/1077 - Train Accuracy:  0.275, Validation Accuracy:  0.339, Loss:  3.486\n",
      "Epoch   0 Batch   10/1077 - Train Accuracy:  0.239, Validation Accuracy:  0.338, Loss:  3.566\n",
      "Epoch   0 Batch   11/1077 - Train Accuracy:  0.295, Validation Accuracy:  0.337, Loss:  3.224\n",
      "Epoch   0 Batch   12/1077 - Train Accuracy:  0.269, Validation Accuracy:  0.337, Loss:  3.271\n",
      "Epoch   0 Batch   13/1077 - Train Accuracy:  0.319, Validation Accuracy:  0.340, Loss:  3.032\n",
      "Epoch   0 Batch   14/1077 - Train Accuracy:  0.297, Validation Accuracy:  0.341, Loss:  3.001\n",
      "Epoch   0 Batch   15/1077 - Train Accuracy:  0.283, Validation Accuracy:  0.348, Loss:  3.075\n",
      "Epoch   0 Batch   16/1077 - Train Accuracy:  0.304, Validation Accuracy:  0.350, Loss:  2.960\n",
      "Epoch   0 Batch   17/1077 - Train Accuracy:  0.336, Validation Accuracy:  0.376, Loss:  2.900\n",
      "Epoch   0 Batch   18/1077 - Train Accuracy:  0.323, Validation Accuracy:  0.391, Loss:  2.912\n",
      "Epoch   0 Batch   19/1077 - Train Accuracy:  0.353, Validation Accuracy:  0.398, Loss:  2.784\n",
      "Epoch   0 Batch   20/1077 - Train Accuracy:  0.363, Validation Accuracy:  0.413, Loss:  2.766\n",
      "Epoch   0 Batch   21/1077 - Train Accuracy:  0.324, Validation Accuracy:  0.422, Loss:  2.808\n",
      "Epoch   0 Batch   22/1077 - Train Accuracy:  0.339, Validation Accuracy:  0.413, Loss:  2.752\n",
      "Epoch   0 Batch   23/1077 - Train Accuracy:  0.335, Validation Accuracy:  0.400, Loss:  2.698\n",
      "Epoch   0 Batch   24/1077 - Train Accuracy:  0.343, Validation Accuracy:  0.401, Loss:  2.609\n",
      "Epoch   0 Batch   25/1077 - Train Accuracy:  0.348, Validation Accuracy:  0.405, Loss:  2.636\n",
      "Epoch   0 Batch   26/1077 - Train Accuracy:  0.335, Validation Accuracy:  0.409, Loss:  2.607\n",
      "Epoch   0 Batch   27/1077 - Train Accuracy:  0.396, Validation Accuracy:  0.416, Loss:  2.336\n",
      "Epoch   0 Batch   28/1077 - Train Accuracy:  0.365, Validation Accuracy:  0.414, Loss:  2.450\n",
      "Epoch   0 Batch   29/1077 - Train Accuracy:  0.354, Validation Accuracy:  0.413, Loss:  2.402\n",
      "Epoch   0 Batch   30/1077 - Train Accuracy:  0.339, Validation Accuracy:  0.413, Loss:  2.367\n",
      "Epoch   0 Batch   31/1077 - Train Accuracy:  0.347, Validation Accuracy:  0.407, Loss:  2.393\n",
      "Epoch   0 Batch   32/1077 - Train Accuracy:  0.392, Validation Accuracy:  0.398, Loss:  2.172\n",
      "Epoch   0 Batch   33/1077 - Train Accuracy:  0.369, Validation Accuracy:  0.399, Loss:  2.181\n",
      "Epoch   0 Batch   34/1077 - Train Accuracy:  0.338, Validation Accuracy:  0.410, Loss:  2.230\n",
      "Epoch   0 Batch   35/1077 - Train Accuracy:  0.354, Validation Accuracy:  0.417, Loss:  2.227\n",
      "Epoch   0 Batch   36/1077 - Train Accuracy:  0.416, Validation Accuracy:  0.444, Loss:  2.144\n",
      "Epoch   0 Batch   37/1077 - Train Accuracy:  0.347, Validation Accuracy:  0.421, Loss:  2.165\n",
      "Epoch   0 Batch   38/1077 - Train Accuracy:  0.316, Validation Accuracy:  0.411, Loss:  2.302\n",
      "Epoch   0 Batch   39/1077 - Train Accuracy:  0.359, Validation Accuracy:  0.420, Loss:  2.147\n",
      "Epoch   0 Batch   40/1077 - Train Accuracy:  0.353, Validation Accuracy:  0.422, Loss:  2.065\n",
      "Epoch   0 Batch   41/1077 - Train Accuracy:  0.360, Validation Accuracy:  0.431, Loss:  1.979\n",
      "Epoch   0 Batch   42/1077 - Train Accuracy:  0.365, Validation Accuracy:  0.429, Loss:  1.998\n",
      "Epoch   0 Batch   43/1077 - Train Accuracy:  0.352, Validation Accuracy:  0.436, Loss:  1.964\n",
      "Epoch   0 Batch   44/1077 - Train Accuracy:  0.329, Validation Accuracy:  0.434, Loss:  2.056\n",
      "Epoch   0 Batch   45/1077 - Train Accuracy:  0.366, Validation Accuracy:  0.433, Loss:  1.920\n",
      "Epoch   0 Batch   46/1077 - Train Accuracy:  0.354, Validation Accuracy:  0.425, Loss:  1.960\n",
      "Epoch   0 Batch   47/1077 - Train Accuracy:  0.370, Validation Accuracy:  0.421, Loss:  1.832\n",
      "Epoch   0 Batch   48/1077 - Train Accuracy:  0.365, Validation Accuracy:  0.417, Loss:  1.854\n",
      "Epoch   0 Batch   49/1077 - Train Accuracy:  0.377, Validation Accuracy:  0.422, Loss:  1.809\n",
      "Epoch   0 Batch   50/1077 - Train Accuracy:  0.341, Validation Accuracy:  0.421, Loss:  1.828\n",
      "Epoch   0 Batch   51/1077 - Train Accuracy:  0.388, Validation Accuracy:  0.420, Loss:  1.731\n",
      "Epoch   0 Batch   52/1077 - Train Accuracy:  0.373, Validation Accuracy:  0.431, Loss:  1.758\n",
      "Epoch   0 Batch   53/1077 - Train Accuracy:  0.393, Validation Accuracy:  0.450, Loss:  1.696\n",
      "Epoch   0 Batch   54/1077 - Train Accuracy:  0.364, Validation Accuracy:  0.448, Loss:  1.796\n",
      "Epoch   0 Batch   55/1077 - Train Accuracy:  0.423, Validation Accuracy:  0.451, Loss:  1.619\n",
      "Epoch   0 Batch   56/1077 - Train Accuracy:  0.388, Validation Accuracy:  0.448, Loss:  1.637\n",
      "Epoch   0 Batch   57/1077 - Train Accuracy:  0.444, Validation Accuracy:  0.441, Loss:  1.447\n",
      "Epoch   0 Batch   58/1077 - Train Accuracy:  0.386, Validation Accuracy:  0.446, Loss:  1.604\n",
      "Epoch   0 Batch   59/1077 - Train Accuracy:  0.352, Validation Accuracy:  0.451, Loss:  1.651\n",
      "Epoch   0 Batch   60/1077 - Train Accuracy:  0.405, Validation Accuracy:  0.448, Loss:  1.524\n",
      "Epoch   0 Batch   61/1077 - Train Accuracy:  0.391, Validation Accuracy:  0.449, Loss:  1.536\n",
      "Epoch   0 Batch   62/1077 - Train Accuracy:  0.363, Validation Accuracy:  0.447, Loss:  1.616\n",
      "Epoch   0 Batch   63/1077 - Train Accuracy:  0.420, Validation Accuracy:  0.447, Loss:  1.430\n",
      "Epoch   0 Batch   64/1077 - Train Accuracy:  0.398, Validation Accuracy:  0.453, Loss:  1.484\n",
      "Epoch   0 Batch   65/1077 - Train Accuracy:  0.388, Validation Accuracy:  0.466, Loss:  1.538\n",
      "Epoch   0 Batch   66/1077 - Train Accuracy:  0.415, Validation Accuracy:  0.477, Loss:  1.396\n",
      "Epoch   0 Batch   67/1077 - Train Accuracy:  0.436, Validation Accuracy:  0.471, Loss:  1.385\n",
      "Epoch   0 Batch   68/1077 - Train Accuracy:  0.399, Validation Accuracy:  0.471, Loss:  1.433\n",
      "Epoch   0 Batch   69/1077 - Train Accuracy:  0.432, Validation Accuracy:  0.467, Loss:  1.448\n",
      "Epoch   0 Batch   70/1077 - Train Accuracy:  0.393, Validation Accuracy:  0.468, Loss:  1.426\n",
      "Epoch   0 Batch   71/1077 - Train Accuracy:  0.420, Validation Accuracy:  0.463, Loss:  1.305\n",
      "Epoch   0 Batch   72/1077 - Train Accuracy:  0.413, Validation Accuracy:  0.471, Loss:  1.331\n",
      "Epoch   0 Batch   73/1077 - Train Accuracy:  0.408, Validation Accuracy:  0.480, Loss:  1.333\n",
      "Epoch   0 Batch   74/1077 - Train Accuracy:  0.458, Validation Accuracy:  0.497, Loss:  1.230\n",
      "Epoch   0 Batch   75/1077 - Train Accuracy:  0.477, Validation Accuracy:  0.511, Loss:  1.243\n",
      "Epoch   0 Batch   76/1077 - Train Accuracy:  0.476, Validation Accuracy:  0.509, Loss:  1.258\n",
      "Epoch   0 Batch   77/1077 - Train Accuracy:  0.445, Validation Accuracy:  0.509, Loss:  1.271\n",
      "Epoch   0 Batch   78/1077 - Train Accuracy:  0.440, Validation Accuracy:  0.523, Loss:  1.306\n",
      "Epoch   0 Batch   79/1077 - Train Accuracy:  0.466, Validation Accuracy:  0.521, Loss:  1.290\n",
      "Epoch   0 Batch   80/1077 - Train Accuracy:  0.480, Validation Accuracy:  0.523, Loss:  1.208\n",
      "Epoch   0 Batch   81/1077 - Train Accuracy:  0.493, Validation Accuracy:  0.550, Loss:  1.186\n",
      "Epoch   0 Batch   82/1077 - Train Accuracy:  0.553, Validation Accuracy:  0.550, Loss:  1.073\n",
      "Epoch   0 Batch   83/1077 - Train Accuracy:  0.473, Validation Accuracy:  0.531, Loss:  1.258\n",
      "Epoch   0 Batch   84/1077 - Train Accuracy:  0.488, Validation Accuracy:  0.524, Loss:  1.160\n",
      "Epoch   0 Batch   85/1077 - Train Accuracy:  0.500, Validation Accuracy:  0.529, Loss:  1.092\n",
      "Epoch   0 Batch   86/1077 - Train Accuracy:  0.493, Validation Accuracy:  0.538, Loss:  1.184\n",
      "Epoch   0 Batch   87/1077 - Train Accuracy:  0.484, Validation Accuracy:  0.538, Loss:  1.186\n"
     ]
    },
    {
     "name": "stdout",
     "output_type": "stream",
     "text": [
      "Epoch   0 Batch   88/1077 - Train Accuracy:  0.498, Validation Accuracy:  0.541, Loss:  1.160\n",
      "Epoch   0 Batch   89/1077 - Train Accuracy:  0.511, Validation Accuracy:  0.550, Loss:  1.119\n",
      "Epoch   0 Batch   90/1077 - Train Accuracy:  0.470, Validation Accuracy:  0.554, Loss:  1.160\n",
      "Epoch   0 Batch   91/1077 - Train Accuracy:  0.551, Validation Accuracy:  0.553, Loss:  1.013\n",
      "Epoch   0 Batch   92/1077 - Train Accuracy:  0.501, Validation Accuracy:  0.545, Loss:  1.100\n",
      "Epoch   0 Batch   93/1077 - Train Accuracy:  0.498, Validation Accuracy:  0.545, Loss:  1.113\n",
      "Epoch   0 Batch   94/1077 - Train Accuracy:  0.504, Validation Accuracy:  0.553, Loss:  1.049\n",
      "Epoch   0 Batch   95/1077 - Train Accuracy:  0.536, Validation Accuracy:  0.558, Loss:  1.104\n",
      "Epoch   0 Batch   96/1077 - Train Accuracy:  0.519, Validation Accuracy:  0.558, Loss:  1.067\n",
      "Epoch   0 Batch   97/1077 - Train Accuracy:  0.494, Validation Accuracy:  0.555, Loss:  1.077\n",
      "Epoch   0 Batch   98/1077 - Train Accuracy:  0.562, Validation Accuracy:  0.556, Loss:  1.010\n",
      "Epoch   0 Batch   99/1077 - Train Accuracy:  0.497, Validation Accuracy:  0.551, Loss:  1.094\n",
      "Epoch   0 Batch  100/1077 - Train Accuracy:  0.520, Validation Accuracy:  0.550, Loss:  1.048\n",
      "Epoch   0 Batch  101/1077 - Train Accuracy:  0.530, Validation Accuracy:  0.547, Loss:  1.001\n",
      "Epoch   0 Batch  102/1077 - Train Accuracy:  0.532, Validation Accuracy:  0.553, Loss:  1.011\n",
      "Epoch   0 Batch  103/1077 - Train Accuracy:  0.493, Validation Accuracy:  0.541, Loss:  1.063\n",
      "Epoch   0 Batch  104/1077 - Train Accuracy:  0.473, Validation Accuracy:  0.540, Loss:  1.055\n",
      "Epoch   0 Batch  105/1077 - Train Accuracy:  0.543, Validation Accuracy:  0.535, Loss:  0.998\n",
      "Epoch   0 Batch  106/1077 - Train Accuracy:  0.491, Validation Accuracy:  0.536, Loss:  1.133\n",
      "Epoch   0 Batch  107/1077 - Train Accuracy:  0.518, Validation Accuracy:  0.543, Loss:  0.958\n",
      "Epoch   0 Batch  108/1077 - Train Accuracy:  0.557, Validation Accuracy:  0.538, Loss:  0.888\n",
      "Epoch   0 Batch  109/1077 - Train Accuracy:  0.530, Validation Accuracy:  0.548, Loss:  0.985\n",
      "Epoch   0 Batch  110/1077 - Train Accuracy:  0.569, Validation Accuracy:  0.553, Loss:  0.935\n",
      "Epoch   0 Batch  111/1077 - Train Accuracy:  0.521, Validation Accuracy:  0.557, Loss:  0.949\n",
      "Epoch   0 Batch  112/1077 - Train Accuracy:  0.522, Validation Accuracy:  0.555, Loss:  0.969\n",
      "Epoch   0 Batch  113/1077 - Train Accuracy:  0.486, Validation Accuracy:  0.559, Loss:  0.985\n",
      "Epoch   0 Batch  114/1077 - Train Accuracy:  0.525, Validation Accuracy:  0.561, Loss:  0.917\n",
      "Epoch   0 Batch  115/1077 - Train Accuracy:  0.505, Validation Accuracy:  0.548, Loss:  0.976\n",
      "Epoch   0 Batch  116/1077 - Train Accuracy:  0.521, Validation Accuracy:  0.550, Loss:  0.950\n",
      "Epoch   0 Batch  117/1077 - Train Accuracy:  0.486, Validation Accuracy:  0.560, Loss:  0.964\n",
      "Epoch   0 Batch  118/1077 - Train Accuracy:  0.484, Validation Accuracy:  0.557, Loss:  0.963\n",
      "Epoch   0 Batch  119/1077 - Train Accuracy:  0.511, Validation Accuracy:  0.554, Loss:  0.926\n",
      "Epoch   0 Batch  120/1077 - Train Accuracy:  0.516, Validation Accuracy:  0.559, Loss:  0.935\n",
      "Epoch   0 Batch  121/1077 - Train Accuracy:  0.548, Validation Accuracy:  0.551, Loss:  0.891\n",
      "Epoch   0 Batch  122/1077 - Train Accuracy:  0.519, Validation Accuracy:  0.550, Loss:  0.885\n",
      "Epoch   0 Batch  123/1077 - Train Accuracy:  0.523, Validation Accuracy:  0.553, Loss:  0.866\n",
      "Epoch   0 Batch  124/1077 - Train Accuracy:  0.529, Validation Accuracy:  0.558, Loss:  0.913\n",
      "Epoch   0 Batch  125/1077 - Train Accuracy:  0.567, Validation Accuracy:  0.560, Loss:  0.859\n",
      "Epoch   0 Batch  126/1077 - Train Accuracy:  0.556, Validation Accuracy:  0.562, Loss:  0.828\n",
      "Epoch   0 Batch  127/1077 - Train Accuracy:  0.524, Validation Accuracy:  0.561, Loss:  0.870\n",
      "Epoch   0 Batch  128/1077 - Train Accuracy:  0.579, Validation Accuracy:  0.569, Loss:  0.823\n",
      "Epoch   0 Batch  129/1077 - Train Accuracy:  0.557, Validation Accuracy:  0.571, Loss:  0.906\n",
      "Epoch   0 Batch  130/1077 - Train Accuracy:  0.568, Validation Accuracy:  0.573, Loss:  0.815\n",
      "Epoch   0 Batch  131/1077 - Train Accuracy:  0.543, Validation Accuracy:  0.571, Loss:  0.866\n",
      "Epoch   0 Batch  132/1077 - Train Accuracy:  0.507, Validation Accuracy:  0.573, Loss:  0.906\n",
      "Epoch   0 Batch  133/1077 - Train Accuracy:  0.512, Validation Accuracy:  0.571, Loss:  0.868\n",
      "Epoch   0 Batch  134/1077 - Train Accuracy:  0.533, Validation Accuracy:  0.575, Loss:  0.826\n",
      "Epoch   0 Batch  135/1077 - Train Accuracy:  0.539, Validation Accuracy:  0.578, Loss:  0.889\n",
      "Epoch   0 Batch  136/1077 - Train Accuracy:  0.546, Validation Accuracy:  0.580, Loss:  0.822\n",
      "Epoch   0 Batch  137/1077 - Train Accuracy:  0.591, Validation Accuracy:  0.571, Loss:  0.766\n",
      "Epoch   0 Batch  138/1077 - Train Accuracy:  0.548, Validation Accuracy:  0.571, Loss:  0.815\n",
      "Epoch   0 Batch  139/1077 - Train Accuracy:  0.546, Validation Accuracy:  0.569, Loss:  0.833\n",
      "Epoch   0 Batch  140/1077 - Train Accuracy:  0.478, Validation Accuracy:  0.572, Loss:  0.890\n",
      "Epoch   0 Batch  141/1077 - Train Accuracy:  0.511, Validation Accuracy:  0.573, Loss:  0.859\n",
      "Epoch   0 Batch  142/1077 - Train Accuracy:  0.568, Validation Accuracy:  0.561, Loss:  0.765\n",
      "Epoch   0 Batch  143/1077 - Train Accuracy:  0.536, Validation Accuracy:  0.564, Loss:  0.845\n",
      "Epoch   0 Batch  144/1077 - Train Accuracy:  0.473, Validation Accuracy:  0.577, Loss:  0.863\n",
      "Epoch   0 Batch  145/1077 - Train Accuracy:  0.597, Validation Accuracy:  0.582, Loss:  0.821\n",
      "Epoch   0 Batch  146/1077 - Train Accuracy:  0.568, Validation Accuracy:  0.582, Loss:  0.813\n",
      "Epoch   0 Batch  147/1077 - Train Accuracy:  0.534, Validation Accuracy:  0.578, Loss:  0.841\n",
      "Epoch   0 Batch  148/1077 - Train Accuracy:  0.547, Validation Accuracy:  0.585, Loss:  0.800\n",
      "Epoch   0 Batch  149/1077 - Train Accuracy:  0.545, Validation Accuracy:  0.585, Loss:  0.822\n",
      "Epoch   0 Batch  150/1077 - Train Accuracy:  0.596, Validation Accuracy:  0.583, Loss:  0.771\n",
      "Epoch   0 Batch  151/1077 - Train Accuracy:  0.560, Validation Accuracy:  0.577, Loss:  0.757\n",
      "Epoch   0 Batch  152/1077 - Train Accuracy:  0.570, Validation Accuracy:  0.571, Loss:  0.810\n",
      "Epoch   0 Batch  153/1077 - Train Accuracy:  0.548, Validation Accuracy:  0.579, Loss:  0.818\n",
      "Epoch   0 Batch  154/1077 - Train Accuracy:  0.540, Validation Accuracy:  0.577, Loss:  0.832\n",
      "Epoch   0 Batch  155/1077 - Train Accuracy:  0.521, Validation Accuracy:  0.580, Loss:  0.799\n",
      "Epoch   0 Batch  156/1077 - Train Accuracy:  0.536, Validation Accuracy:  0.583, Loss:  0.771\n",
      "Epoch   0 Batch  157/1077 - Train Accuracy:  0.548, Validation Accuracy:  0.582, Loss:  0.776\n",
      "Epoch   0 Batch  158/1077 - Train Accuracy:  0.562, Validation Accuracy:  0.582, Loss:  0.807\n",
      "Epoch   0 Batch  159/1077 - Train Accuracy:  0.566, Validation Accuracy:  0.582, Loss:  0.704\n",
      "Epoch   0 Batch  160/1077 - Train Accuracy:  0.557, Validation Accuracy:  0.588, Loss:  0.756\n",
      "Epoch   0 Batch  161/1077 - Train Accuracy:  0.538, Validation Accuracy:  0.591, Loss:  0.764\n",
      "Epoch   0 Batch  162/1077 - Train Accuracy:  0.534, Validation Accuracy:  0.593, Loss:  0.808\n",
      "Epoch   0 Batch  163/1077 - Train Accuracy:  0.537, Validation Accuracy:  0.592, Loss:  0.807\n",
      "Epoch   0 Batch  164/1077 - Train Accuracy:  0.555, Validation Accuracy:  0.586, Loss:  0.755\n",
      "Epoch   0 Batch  165/1077 - Train Accuracy:  0.529, Validation Accuracy:  0.592, Loss:  0.727\n",
      "Epoch   0 Batch  166/1077 - Train Accuracy:  0.582, Validation Accuracy:  0.586, Loss:  0.768\n",
      "Epoch   0 Batch  167/1077 - Train Accuracy:  0.566, Validation Accuracy:  0.590, Loss:  0.768\n",
      "Epoch   0 Batch  168/1077 - Train Accuracy:  0.538, Validation Accuracy:  0.597, Loss:  0.777\n",
      "Epoch   0 Batch  169/1077 - Train Accuracy:  0.567, Validation Accuracy:  0.602, Loss:  0.743\n",
      "Epoch   0 Batch  170/1077 - Train Accuracy:  0.523, Validation Accuracy:  0.597, Loss:  0.760\n",
      "Epoch   0 Batch  171/1077 - Train Accuracy:  0.578, Validation Accuracy:  0.598, Loss:  0.696\n",
      "Epoch   0 Batch  172/1077 - Train Accuracy:  0.615, Validation Accuracy:  0.589, Loss:  0.676\n",
      "Epoch   0 Batch  173/1077 - Train Accuracy:  0.532, Validation Accuracy:  0.586, Loss:  0.789\n",
      "Epoch   0 Batch  174/1077 - Train Accuracy:  0.577, Validation Accuracy:  0.586, Loss:  0.725\n",
      "Epoch   0 Batch  175/1077 - Train Accuracy:  0.600, Validation Accuracy:  0.588, Loss:  0.709\n"
     ]
    },
    {
     "name": "stdout",
     "output_type": "stream",
     "text": [
      "Epoch   0 Batch  176/1077 - Train Accuracy:  0.557, Validation Accuracy:  0.586, Loss:  0.725\n",
      "Epoch   0 Batch  177/1077 - Train Accuracy:  0.558, Validation Accuracy:  0.590, Loss:  0.791\n",
      "Epoch   0 Batch  178/1077 - Train Accuracy:  0.585, Validation Accuracy:  0.590, Loss:  0.719\n",
      "Epoch   0 Batch  179/1077 - Train Accuracy:  0.598, Validation Accuracy:  0.590, Loss:  0.748\n",
      "Epoch   0 Batch  180/1077 - Train Accuracy:  0.590, Validation Accuracy:  0.592, Loss:  0.723\n",
      "Epoch   0 Batch  181/1077 - Train Accuracy:  0.574, Validation Accuracy:  0.596, Loss:  0.756\n",
      "Epoch   0 Batch  182/1077 - Train Accuracy:  0.587, Validation Accuracy:  0.596, Loss:  0.706\n",
      "Epoch   0 Batch  183/1077 - Train Accuracy:  0.582, Validation Accuracy:  0.587, Loss:  0.716\n",
      "Epoch   0 Batch  184/1077 - Train Accuracy:  0.583, Validation Accuracy:  0.576, Loss:  0.680\n",
      "Epoch   0 Batch  185/1077 - Train Accuracy:  0.577, Validation Accuracy:  0.594, Loss:  0.715\n",
      "Epoch   0 Batch  186/1077 - Train Accuracy:  0.561, Validation Accuracy:  0.597, Loss:  0.737\n",
      "Epoch   0 Batch  187/1077 - Train Accuracy:  0.595, Validation Accuracy:  0.603, Loss:  0.684\n",
      "Epoch   0 Batch  188/1077 - Train Accuracy:  0.576, Validation Accuracy:  0.606, Loss:  0.687\n",
      "Epoch   0 Batch  189/1077 - Train Accuracy:  0.593, Validation Accuracy:  0.612, Loss:  0.702\n",
      "Epoch   0 Batch  190/1077 - Train Accuracy:  0.613, Validation Accuracy:  0.623, Loss:  0.677\n",
      "Epoch   0 Batch  191/1077 - Train Accuracy:  0.648, Validation Accuracy:  0.620, Loss:  0.621\n",
      "Epoch   0 Batch  192/1077 - Train Accuracy:  0.614, Validation Accuracy:  0.614, Loss:  0.688\n"
     ]
    },
    {
     "ename": "KeyboardInterrupt",
     "evalue": "",
     "output_type": "error",
     "traceback": [
      "\u001b[0;31m---------------------------------------------------------------------------\u001b[0m",
      "\u001b[0;31mKeyboardInterrupt\u001b[0m                         Traceback (most recent call last)",
      "\u001b[0;32m<ipython-input-55-d7dd20c512f1>\u001b[0m in \u001b[0;36m<module>\u001b[0;34m()\u001b[0m\n\u001b[1;32m     42\u001b[0m                  \u001b[0mlr\u001b[0m\u001b[0;34m:\u001b[0m \u001b[0mlearning_rate\u001b[0m\u001b[0;34m,\u001b[0m\u001b[0;34m\u001b[0m\u001b[0m\n\u001b[1;32m     43\u001b[0m                  \u001b[0msequence_length\u001b[0m\u001b[0;34m:\u001b[0m \u001b[0mtarget_batch\u001b[0m\u001b[0;34m.\u001b[0m\u001b[0mshape\u001b[0m\u001b[0;34m[\u001b[0m\u001b[0;36m1\u001b[0m\u001b[0;34m]\u001b[0m\u001b[0;34m,\u001b[0m\u001b[0;34m\u001b[0m\u001b[0m\n\u001b[0;32m---> 44\u001b[0;31m                  keep_prob: keep_probability})\n\u001b[0m\u001b[1;32m     45\u001b[0m \u001b[0;34m\u001b[0m\u001b[0m\n\u001b[1;32m     46\u001b[0m             batch_train_logits = sess.run(\n",
      "\u001b[0;32m/Users/pedro/miniconda3/lib/python3.6/site-packages/tensorflow/python/client/session.py\u001b[0m in \u001b[0;36mrun\u001b[0;34m(self, fetches, feed_dict, options, run_metadata)\u001b[0m\n\u001b[1;32m    765\u001b[0m     \u001b[0;32mtry\u001b[0m\u001b[0;34m:\u001b[0m\u001b[0;34m\u001b[0m\u001b[0m\n\u001b[1;32m    766\u001b[0m       result = self._run(None, fetches, feed_dict, options_ptr,\n\u001b[0;32m--> 767\u001b[0;31m                          run_metadata_ptr)\n\u001b[0m\u001b[1;32m    768\u001b[0m       \u001b[0;32mif\u001b[0m \u001b[0mrun_metadata\u001b[0m\u001b[0;34m:\u001b[0m\u001b[0;34m\u001b[0m\u001b[0m\n\u001b[1;32m    769\u001b[0m         \u001b[0mproto_data\u001b[0m \u001b[0;34m=\u001b[0m \u001b[0mtf_session\u001b[0m\u001b[0;34m.\u001b[0m\u001b[0mTF_GetBuffer\u001b[0m\u001b[0;34m(\u001b[0m\u001b[0mrun_metadata_ptr\u001b[0m\u001b[0;34m)\u001b[0m\u001b[0;34m\u001b[0m\u001b[0m\n",
      "\u001b[0;32m/Users/pedro/miniconda3/lib/python3.6/site-packages/tensorflow/python/client/session.py\u001b[0m in \u001b[0;36m_run\u001b[0;34m(self, handle, fetches, feed_dict, options, run_metadata)\u001b[0m\n\u001b[1;32m    963\u001b[0m     \u001b[0;32mif\u001b[0m \u001b[0mfinal_fetches\u001b[0m \u001b[0;32mor\u001b[0m \u001b[0mfinal_targets\u001b[0m\u001b[0;34m:\u001b[0m\u001b[0;34m\u001b[0m\u001b[0m\n\u001b[1;32m    964\u001b[0m       results = self._do_run(handle, final_targets, final_fetches,\n\u001b[0;32m--> 965\u001b[0;31m                              feed_dict_string, options, run_metadata)\n\u001b[0m\u001b[1;32m    966\u001b[0m     \u001b[0;32melse\u001b[0m\u001b[0;34m:\u001b[0m\u001b[0;34m\u001b[0m\u001b[0m\n\u001b[1;32m    967\u001b[0m       \u001b[0mresults\u001b[0m \u001b[0;34m=\u001b[0m \u001b[0;34m[\u001b[0m\u001b[0;34m]\u001b[0m\u001b[0;34m\u001b[0m\u001b[0m\n",
      "\u001b[0;32m/Users/pedro/miniconda3/lib/python3.6/site-packages/tensorflow/python/client/session.py\u001b[0m in \u001b[0;36m_do_run\u001b[0;34m(self, handle, target_list, fetch_list, feed_dict, options, run_metadata)\u001b[0m\n\u001b[1;32m   1013\u001b[0m     \u001b[0;32mif\u001b[0m \u001b[0mhandle\u001b[0m \u001b[0;32mis\u001b[0m \u001b[0;32mNone\u001b[0m\u001b[0;34m:\u001b[0m\u001b[0;34m\u001b[0m\u001b[0m\n\u001b[1;32m   1014\u001b[0m       return self._do_call(_run_fn, self._session, feed_dict, fetch_list,\n\u001b[0;32m-> 1015\u001b[0;31m                            target_list, options, run_metadata)\n\u001b[0m\u001b[1;32m   1016\u001b[0m     \u001b[0;32melse\u001b[0m\u001b[0;34m:\u001b[0m\u001b[0;34m\u001b[0m\u001b[0m\n\u001b[1;32m   1017\u001b[0m       return self._do_call(_prun_fn, self._session, handle, feed_dict,\n",
      "\u001b[0;32m/Users/pedro/miniconda3/lib/python3.6/site-packages/tensorflow/python/client/session.py\u001b[0m in \u001b[0;36m_do_call\u001b[0;34m(self, fn, *args)\u001b[0m\n\u001b[1;32m   1020\u001b[0m   \u001b[0;32mdef\u001b[0m \u001b[0m_do_call\u001b[0m\u001b[0;34m(\u001b[0m\u001b[0mself\u001b[0m\u001b[0;34m,\u001b[0m \u001b[0mfn\u001b[0m\u001b[0;34m,\u001b[0m \u001b[0;34m*\u001b[0m\u001b[0margs\u001b[0m\u001b[0;34m)\u001b[0m\u001b[0;34m:\u001b[0m\u001b[0;34m\u001b[0m\u001b[0m\n\u001b[1;32m   1021\u001b[0m     \u001b[0;32mtry\u001b[0m\u001b[0;34m:\u001b[0m\u001b[0;34m\u001b[0m\u001b[0m\n\u001b[0;32m-> 1022\u001b[0;31m       \u001b[0;32mreturn\u001b[0m \u001b[0mfn\u001b[0m\u001b[0;34m(\u001b[0m\u001b[0;34m*\u001b[0m\u001b[0margs\u001b[0m\u001b[0;34m)\u001b[0m\u001b[0;34m\u001b[0m\u001b[0m\n\u001b[0m\u001b[1;32m   1023\u001b[0m     \u001b[0;32mexcept\u001b[0m \u001b[0merrors\u001b[0m\u001b[0;34m.\u001b[0m\u001b[0mOpError\u001b[0m \u001b[0;32mas\u001b[0m \u001b[0me\u001b[0m\u001b[0;34m:\u001b[0m\u001b[0;34m\u001b[0m\u001b[0m\n\u001b[1;32m   1024\u001b[0m       \u001b[0mmessage\u001b[0m \u001b[0;34m=\u001b[0m \u001b[0mcompat\u001b[0m\u001b[0;34m.\u001b[0m\u001b[0mas_text\u001b[0m\u001b[0;34m(\u001b[0m\u001b[0me\u001b[0m\u001b[0;34m.\u001b[0m\u001b[0mmessage\u001b[0m\u001b[0;34m)\u001b[0m\u001b[0;34m\u001b[0m\u001b[0m\n",
      "\u001b[0;32m/Users/pedro/miniconda3/lib/python3.6/site-packages/tensorflow/python/client/session.py\u001b[0m in \u001b[0;36m_run_fn\u001b[0;34m(session, feed_dict, fetch_list, target_list, options, run_metadata)\u001b[0m\n\u001b[1;32m   1002\u001b[0m         return tf_session.TF_Run(session, options,\n\u001b[1;32m   1003\u001b[0m                                  \u001b[0mfeed_dict\u001b[0m\u001b[0;34m,\u001b[0m \u001b[0mfetch_list\u001b[0m\u001b[0;34m,\u001b[0m \u001b[0mtarget_list\u001b[0m\u001b[0;34m,\u001b[0m\u001b[0;34m\u001b[0m\u001b[0m\n\u001b[0;32m-> 1004\u001b[0;31m                                  status, run_metadata)\n\u001b[0m\u001b[1;32m   1005\u001b[0m \u001b[0;34m\u001b[0m\u001b[0m\n\u001b[1;32m   1006\u001b[0m     \u001b[0;32mdef\u001b[0m \u001b[0m_prun_fn\u001b[0m\u001b[0;34m(\u001b[0m\u001b[0msession\u001b[0m\u001b[0;34m,\u001b[0m \u001b[0mhandle\u001b[0m\u001b[0;34m,\u001b[0m \u001b[0mfeed_dict\u001b[0m\u001b[0;34m,\u001b[0m \u001b[0mfetch_list\u001b[0m\u001b[0;34m)\u001b[0m\u001b[0;34m:\u001b[0m\u001b[0;34m\u001b[0m\u001b[0m\n",
      "\u001b[0;31mKeyboardInterrupt\u001b[0m: "
     ]
    }
   ],
   "source": [
    "\"\"\"\n",
    "DON'T MODIFY ANYTHING IN THIS CELL\n",
    "\"\"\"\n",
    "import time\n",
    "\n",
    "def get_accuracy(target, logits):\n",
    "    \"\"\"\n",
    "    Calculate accuracy\n",
    "    \"\"\"\n",
    "    max_seq = max(target.shape[1], logits.shape[1])\n",
    "    if max_seq - target.shape[1]:\n",
    "        target = np.pad(\n",
    "            target,\n",
    "            [(0,0),(0,max_seq - target.shape[1])],\n",
    "            'constant')\n",
    "    if max_seq - logits.shape[1]:\n",
    "        logits = np.pad(\n",
    "            logits,\n",
    "            [(0,0),(0,max_seq - logits.shape[1]), (0,0)],\n",
    "            'constant')\n",
    "\n",
    "    return np.mean(np.equal(target, np.argmax(logits, 2)))\n",
    "\n",
    "train_source = source_int_text[batch_size:]\n",
    "train_target = target_int_text[batch_size:]\n",
    "\n",
    "valid_source = helper.pad_sentence_batch(source_int_text[:batch_size])\n",
    "valid_target = helper.pad_sentence_batch(target_int_text[:batch_size])\n",
    "\n",
    "with tf.Session(graph=train_graph) as sess:\n",
    "    sess.run(tf.global_variables_initializer())\n",
    "\n",
    "    for epoch_i in range(epochs):\n",
    "        for batch_i, (source_batch, target_batch) in enumerate(\n",
    "                helper.batch_data(train_source, train_target, batch_size)):\n",
    "            start_time = time.time()\n",
    "            \n",
    "            _, loss = sess.run(\n",
    "                [train_op, cost],\n",
    "                {input_data: source_batch,\n",
    "                 targets: target_batch,\n",
    "                 lr: learning_rate,\n",
    "                 sequence_length: target_batch.shape[1],\n",
    "                 keep_prob: keep_probability})\n",
    "            \n",
    "            batch_train_logits = sess.run(\n",
    "                inference_logits,\n",
    "                {input_data: source_batch, keep_prob: 1.0})\n",
    "            batch_valid_logits = sess.run(\n",
    "                inference_logits,\n",
    "                {input_data: valid_source, keep_prob: 1.0})\n",
    "                \n",
    "            train_acc = get_accuracy(target_batch, batch_train_logits)\n",
    "            valid_acc = get_accuracy(np.array(valid_target), batch_valid_logits)\n",
    "            end_time = time.time()\n",
    "            print('Epoch {:>3} Batch {:>4}/{} - Train Accuracy: {:>6.3f}, Validation Accuracy: {:>6.3f}, Loss: {:>6.3f}'\n",
    "                  .format(epoch_i, batch_i, len(source_int_text) // batch_size, train_acc, valid_acc, loss))\n",
    "\n",
    "    # Save Model\n",
    "    saver = tf.train.Saver()\n",
    "    saver.save(sess, save_path)\n",
    "    print('Model Trained and Saved')"
   ]
  },
  {
   "cell_type": "markdown",
   "metadata": {},
   "source": [
    "### Save Parameters\n",
    "Save the `batch_size` and `save_path` parameters for inference."
   ]
  },
  {
   "cell_type": "code",
   "execution_count": null,
   "metadata": {
    "collapsed": true
   },
   "outputs": [],
   "source": [
    "\"\"\"\n",
    "DON'T MODIFY ANYTHING IN THIS CELL\n",
    "\"\"\"\n",
    "# Save parameters for checkpoint\n",
    "helper.save_params(save_path)"
   ]
  },
  {
   "cell_type": "markdown",
   "metadata": {},
   "source": [
    "# Checkpoint"
   ]
  },
  {
   "cell_type": "code",
   "execution_count": null,
   "metadata": {
    "collapsed": true
   },
   "outputs": [],
   "source": [
    "\"\"\"\n",
    "DON'T MODIFY ANYTHING IN THIS CELL\n",
    "\"\"\"\n",
    "import tensorflow as tf\n",
    "import numpy as np\n",
    "import helper\n",
    "import problem_unittests as tests\n",
    "\n",
    "_, (source_vocab_to_int, target_vocab_to_int), (source_int_to_vocab, target_int_to_vocab) = helper.load_preprocess()\n",
    "load_path = helper.load_params()"
   ]
  },
  {
   "cell_type": "markdown",
   "metadata": {},
   "source": [
    "## Sentence to Sequence\n",
    "To feed a sentence into the model for translation, you first need to preprocess it.  Implement the function `sentence_to_seq()` to preprocess new sentences.\n",
    "\n",
    "- Convert the sentence to lowercase\n",
    "- Convert words into ids using `vocab_to_int`\n",
    " - Convert words not in the vocabulary, to the `<UNK>` word id."
   ]
  },
  {
   "cell_type": "code",
   "execution_count": null,
   "metadata": {
    "collapsed": true
   },
   "outputs": [],
   "source": [
    "def sentence_to_seq(sentence, vocab_to_int):\n",
    "    \"\"\"\n",
    "    Convert a sentence to a sequence of ids\n",
    "    :param sentence: String\n",
    "    :param vocab_to_int: Dictionary to go from the words to an id\n",
    "    :return: List of word ids\n",
    "    \"\"\"\n",
    "    # TODO: Implement Function\n",
    "    return [vocab_to_int.get(word, vocab_to_int['<UNK>']) for word in sentence.lower().split()]\n",
    "\n",
    "\n",
    "\"\"\"\n",
    "DON'T MODIFY ANYTHING IN THIS CELL THAT IS BELOW THIS LINE\n",
    "\"\"\"\n",
    "tests.test_sentence_to_seq(sentence_to_seq)"
   ]
  },
  {
   "cell_type": "markdown",
   "metadata": {},
   "source": [
    "## Translate\n",
    "This will translate `translate_sentence` from English to French."
   ]
  },
  {
   "cell_type": "code",
   "execution_count": null,
   "metadata": {
    "collapsed": true
   },
   "outputs": [],
   "source": [
    "translate_sentence = 'he saw a old yellow truck .'\n",
    "\n",
    "\n",
    "\"\"\"\n",
    "DON'T MODIFY ANYTHING IN THIS CELL\n",
    "\"\"\"\n",
    "translate_sentence = sentence_to_seq(translate_sentence, source_vocab_to_int)\n",
    "\n",
    "loaded_graph = tf.Graph()\n",
    "with tf.Session(graph=loaded_graph) as sess:\n",
    "    # Load saved model\n",
    "    loader = tf.train.import_meta_graph(load_path + '.meta')\n",
    "    loader.restore(sess, load_path)\n",
    "\n",
    "    input_data = loaded_graph.get_tensor_by_name('input:0')\n",
    "    logits = loaded_graph.get_tensor_by_name('logits:0')\n",
    "    keep_prob = loaded_graph.get_tensor_by_name('keep_prob:0')\n",
    "\n",
    "    translate_logits = sess.run(logits, {input_data: [translate_sentence], keep_prob: 1.0})[0]\n",
    "\n",
    "print('Input')\n",
    "print('  Word Ids:      {}'.format([i for i in translate_sentence]))\n",
    "print('  English Words: {}'.format([source_int_to_vocab[i] for i in translate_sentence]))\n",
    "\n",
    "print('\\nPrediction')\n",
    "print('  Word Ids:      {}'.format([i for i in np.argmax(translate_logits, 1)]))\n",
    "print('  French Words: {}'.format([target_int_to_vocab[i] for i in np.argmax(translate_logits, 1)]))"
   ]
  },
  {
   "cell_type": "markdown",
   "metadata": {},
   "source": [
    "## Imperfect Translation\n",
    "You might notice that some sentences translate better than others.  Since the dataset you're using only has a vocabulary of 227 English words of the thousands that you use, you're only going to see good results using these words.  For this project, you don't need a perfect translation. However, if you want to create a better translation model, you'll need better data.\n",
    "\n",
    "You can train on the [WMT10 French-English corpus](http://www.statmt.org/wmt10/training-giga-fren.tar).  This dataset has more vocabulary and richer in topics discussed.  However, this will take you days to train, so make sure you've a GPU and the neural network is performing well on dataset we provided.  Just make sure you play with the WMT10 corpus after you've submitted this project.\n",
    "## Submitting This Project\n",
    "When submitting this project, make sure to run all the cells before saving the notebook. Save the notebook file as \"dlnd_language_translation.ipynb\" and save it as a HTML file under \"File\" -> \"Download as\". Include the \"helper.py\" and \"problem_unittests.py\" files in your submission."
   ]
  },
  {
   "cell_type": "code",
   "execution_count": null,
   "metadata": {
    "collapsed": true
   },
   "outputs": [],
   "source": []
  }
 ],
 "metadata": {
  "kernelspec": {
   "display_name": "Python 3",
   "language": "python",
   "name": "python3"
  },
  "language_info": {
   "codemirror_mode": {
    "name": "ipython",
    "version": 3
   },
   "file_extension": ".py",
   "mimetype": "text/x-python",
   "name": "python",
   "nbconvert_exporter": "python",
   "pygments_lexer": "ipython3",
   "version": "3.6.0"
  }
 },
 "nbformat": 4,
 "nbformat_minor": 1
}
